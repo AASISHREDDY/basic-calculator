{
 "cells": [
  {
   "cell_type": "code",
   "execution_count": 1,
   "id": "418f7c6c",
   "metadata": {},
   "outputs": [],
   "source": [
    "from tkinter import *\n"
   ]
  },
  {
   "cell_type": "code",
   "execution_count": 2,
   "id": "add04123",
   "metadata": {},
   "outputs": [
    {
     "data": {
      "text/plain": [
       "''"
      ]
     },
     "execution_count": 2,
     "metadata": {},
     "output_type": "execute_result"
    }
   ],
   "source": [
    "window = Tk()\n",
    "window.title(\"Basic Calculator\")\n"
   ]
  },
  {
   "cell_type": "code",
   "execution_count": 3,
   "id": "f69d7a5a",
   "metadata": {},
   "outputs": [],
   "source": [
    "num1 = Entry(window, width=10)\n",
    "num1.grid(row=0, column=0)\n",
    "\n",
    "num2 = Entry(window, width=10)\n",
    "num2.grid(row=0, column=2)\n"
   ]
  },
  {
   "cell_type": "code",
   "execution_count": 4,
   "id": "359b5c88",
   "metadata": {},
   "outputs": [],
   "source": [
    "def calculate():\n",
    "    if operation.get() == \"Add\":\n",
    "        result = int(num1.get()) + int(num2.get())\n",
    "    elif operation.get() == \"Subtract\":\n",
    "        result = int(num1.get()) - int(num2.get())\n",
    "    elif operation.get() == \"Multiply\":\n",
    "        result = int(num1.get()) * int(num2.get())\n",
    "    elif operation.get() == \"Divide\":\n",
    "        result = int(num1.get()) / int(num2.get())\n",
    "    elif operation.get() == \"Mod\":\n",
    "        result = int(num1.get()) % int(num2.get())\n",
    "\n",
    "    output.config(state=\"normal\")\n",
    "    output.delete(0, END)\n",
    "    output.insert(0, result)\n",
    "    output.config(state=\"readonly\")\n"
   ]
  },
  {
   "cell_type": "code",
   "execution_count": 5,
   "id": "0c1b474c",
   "metadata": {},
   "outputs": [],
   "source": [
    "add_button = Button(window, text=\"Add\", command=calculate)\n",
    "add_button.grid(row=1, column=0)\n",
    "\n",
    "subtract_button = Button(window, text=\"Subtract\", command=calculate)\n",
    "subtract_button.grid(row=1, column=1)\n",
    "\n",
    "multiply_button = Button(window, text=\"Multiply\", command=calculate)\n",
    "multiply_button.grid(row=1, column=2)\n",
    "\n",
    "divide_button = Button(window, text=\"Divide\", command=calculate)\n",
    "divide_button.grid(row=2, column=0)\n",
    "\n",
    "mod_button = Button(window, text=\"Mod\", command=calculate)\n",
    "mod_button.grid(row=2, column=1)\n"
   ]
  },
  {
   "cell_type": "code",
   "execution_count": 6,
   "id": "8d3f2da8",
   "metadata": {},
   "outputs": [],
   "source": [
    "operation = StringVar()\n",
    "operation.set(\"Add\")\n",
    "\n",
    "add_radio = Radiobutton(window, text=\"Add\", variable=operation, value=\"Add\")\n",
    "add_radio.grid(row=3, column=0)\n",
    "\n",
    "subtract_radio = Radiobutton(window, text=\"Subtract\", variable=operation, value=\"Subtract\")\n",
    "subtract_radio.grid(row=3, column=1)\n",
    "\n",
    "multiply_radio = Radiobutton(window, text=\"Multiply\", variable=operation, value=\"Multiply\")\n",
    "multiply_radio.grid(row=3, column=2)\n",
    "\n",
    "divide_radio = Radiobutton(window, text=\"Divide\", variable=operation, value=\"Divide\")\n",
    "divide_radio.grid(row=4, column=0)\n",
    "\n",
    "mod_radio = Radiobutton(window, text=\"Mod\", variable=operation, value=\"Mod\")\n",
    "mod_radio.grid(row=4, column=1)\n"
   ]
  },
  {
   "cell_type": "code",
   "execution_count": 7,
   "id": "2cf4c2ca",
   "metadata": {},
   "outputs": [],
   "source": [
    "output = Entry(window, width=10, state=\"readonly\")\n",
    "output.grid(row=4, column=2)\n"
   ]
  },
  {
   "cell_type": "code",
   "execution_count": null,
   "id": "4a1fe321",
   "metadata": {},
   "outputs": [],
   "source": [
    "window.mainloop()\n"
   ]
  },
  {
   "cell_type": "code",
   "execution_count": null,
   "id": "6c28b7f1",
   "metadata": {},
   "outputs": [],
   "source": []
  }
 ],
 "metadata": {
  "kernelspec": {
   "display_name": "Python 3 (ipykernel)",
   "language": "python",
   "name": "python3"
  },
  "language_info": {
   "codemirror_mode": {
    "name": "ipython",
    "version": 3
   },
   "file_extension": ".py",
   "mimetype": "text/x-python",
   "name": "python",
   "nbconvert_exporter": "python",
   "pygments_lexer": "ipython3",
   "version": "3.9.13"
  }
 },
 "nbformat": 4,
 "nbformat_minor": 5
}
